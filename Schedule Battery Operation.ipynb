{
 "cells": [
  {
   "cell_type": "code",
   "execution_count": null,
   "metadata": {},
   "outputs": [],
   "source": [
    "import pandas as pd\n",
    "import datetime\n",
    "import os\n",
    "import timeit\n",
    "from ortools.linear_solver import pywraplp"
   ]
  },
  {
   "cell_type": "code",
   "execution_count": null,
   "metadata": {},
   "outputs": [],
   "source": [
    "# Read Excel file\n",
    "file_name = os.fsdecode(\"Data.xlsx\")\n",
    "workbook = pd.ExcelFile(file_name)\n",
    "\n",
    "output_folder = \"output\"\n",
    "if not os.path.isdir(output_folder):\n",
    "    os.makedirs(output_folder)\n",
    "\n",
    "# Load timeseries data\n",
    "marketDF = workbook.parse(\"Timeseries data\")\n",
    "marketDF = marketDF.iloc[:,:5]\n",
    "marketDF.columns = [\"time\", \"market_price_1\", \"load\", \"wind\", \"solar\"]\n",
    "marketDF = marketDF[~pd.isnull(marketDF[\"time\"])].fillna(0)\n",
    "\n",
    "market1DF = marketDF.copy()\n",
    "market1DF.sort_values(by=[\"time\"], inplace=True)\n",
    "market1DF[\"time_string\"] = market1DF.apply(lambda x:(x[\"time\"]+ datetime.timedelta(seconds=0.002)).strftime(\"%d/%m/%Y %H:%M\"), axis=1)\n",
    "market1DF.set_index(\"time_string\", inplace=True)\n",
    "marketDF = market1DF\n",
    "\n",
    "# Load static data\n",
    "gridDF = workbook.parse(\"Grid\")\n",
    "gridDF = gridDF.iloc[:,:4]\n",
    "gridDF.columns = [\"max_buy_power\", \"max_sell_power\", \"max_import_power\", \"max_export_power\"]\n",
    "\n",
    "# Load battery data\n",
    "battDF = workbook.parse(\"Battery\")\n",
    "battDF = battDF.iloc[:,:8]\n",
    "battDF.columns = [\"max_charge_rate\", \"max_discharge_rate\", \"capacity\", \"charge_eff\", \"discharge_eff\", \"min_soc\", \"max_soc\", \"initial_soc\"]\n",
    "\n",
    "# Convert dataframe to dictionary\n",
    "marketDict = marketDF.to_dict()\n",
    "gridDict = gridDF.to_dict()\n",
    "battDict = battDF.to_dict()\n",
    "\n",
    "timeInterval = marketDF.iloc[1][\"time\"] - marketDF.iloc[0][\"time\"]\n",
    "\n",
    "# Assign the data to right places\n",
    "input = type(\"input\", (dict,), {})()\n",
    "input.update({\n",
    "    \"simData\": {\n",
    "        \"startTime\": datetime.datetime.strptime(marketDF.index[0], \"%d/%m/%Y %H:%M\"),\n",
    "        \"dt\": int(round(timeInterval.total_seconds())) / (60 * 60), #in hour\n",
    "        \"tIndex\": marketDF.shape[0]\n",
    "        },\n",
    "    \"market\": {\n",
    "        key: {\n",
    "            sub_key: sub_item for sub_key, sub_item in marketDict[key].items()\n",
    "            } for key in marketDict.keys() if key != \"time\"\n",
    "        },\n",
    "    \"grid\": {\n",
    "        key: item[0] for key, item in gridDict.items()\n",
    "        },\n",
    "    \"batt\": {\n",
    "        key: item[0] for key, item in battDict.items()\n",
    "        }\n",
    "    })"
   ]
  },
  {
   "cell_type": "code",
   "execution_count": null,
   "metadata": {},
   "outputs": [],
   "source": [
    "# Create the mip solver with the CBC backend.\n",
    "solver = pywraplp.Solver.CreateSolver(\"CBC\")\n",
    "\n",
    "inf = solver.infinity()"
   ]
  },
  {
   "cell_type": "code",
   "execution_count": null,
   "metadata": {},
   "outputs": [],
   "source": [
    "tIndex = input[\"simData\"][\"tIndex\"] # number of timeslots\n",
    "dt = input[\"simData\"][\"dt\"] # time interval in hour\n",
    "\n",
    "# Create datetime array\n",
    "startTime = input[\"simData\"][\"startTime\"].strftime(\"%d/%m/%Y %H:%M\")\n",
    "tIndex = input[\"simData\"][\"tIndex\"]\n",
    "timestamp = pd.date_range(startTime, periods=tIndex, freq=str(dt * 60) + \"min\")\n",
    "time = [timestamp[i].strftime(\"%d/%m/%Y %H:%M\") for i in range(len(timestamp))]"
   ]
  },
  {
   "cell_type": "code",
   "execution_count": null,
   "metadata": {},
   "outputs": [],
   "source": [
    "time_s = timeit.default_timer()\n",
    "# Add timeseries variables\n",
    "vGrid = [solver.NumVar(lb=-inf, ub=inf, name=\"\") for _ in range(tIndex)]\n",
    "\n",
    "vBattPower = [solver.NumVar(lb=-inf, ub=inf, name=\"\") for _ in range(tIndex)]\n",
    "vCharge = [solver.NumVar(lb=-inf, ub=0, name=\"\") for _ in range(tIndex)]\n",
    "vDischarge = [solver.NumVar(lb=0, ub=inf, name=\"\") for _ in range(tIndex)]\n",
    "vChargeStatus = [solver.BoolVar(name=\"\") for _ in range(tIndex)]\n",
    "vSOC = [solver.NumVar(lb=0, ub=1, name=\"\") for _ in range(tIndex)]"
   ]
  },
  {
   "cell_type": "code",
   "execution_count": null,
   "metadata": {},
   "outputs": [],
   "source": [
    "# Add constraints\n",
    "for i in range(tIndex):\n",
    "    \n",
    "    t = time[i]\n",
    "    \n",
    "    # Grid constraints\n",
    "    solver.Add(vGrid[i] == input[\"market\"][\"load\"][t] - input[\"market\"][\"solar\"][t] - input[\"market\"][\"wind\"][t] - vBattPower[i]) # Eqn. 1\n",
    "    solver.Add(vGrid[i] <= input[\"grid\"][\"max_buy_power\"]) # Eqn. 2\n",
    "    solver.Add(vGrid[i] >= -input[\"grid\"][\"max_sell_power\"]) # Eqn. 2\n",
    "    solver.Add(input[\"market\"][\"load\"][t] - input[\"market\"][\"solar\"][t] - input[\"market\"][\"wind\"][t] + vDischarge[i] + vCharge[i] <= input[\"grid\"][\"max_import_power\"]) # Eqn. 3\n",
    "    solver.Add(input[\"market\"][\"load\"][t] - input[\"market\"][\"solar\"][t] - input[\"market\"][\"wind\"][t] + vDischarge[i] + vCharge[i] >= -input[\"grid\"][\"max_export_power\"]) # Eqn. 3\n",
    "    \n",
    "    # Battery constraints\n",
    "    solver.Add(vBattPower[i] == vCharge[i] + vDischarge[i]) # Eqn. 4\n",
    "    solver.Add(vCharge[i] >= -input[\"batt\"][\"max_charge_rate\"] * vChargeStatus[i]) # Eqn. 5(a)\n",
    "    solver.Add(vDischarge[i] <= input[\"batt\"][\"max_discharge_rate\"] * (1-vChargeStatus[i])) # Eqn. 5(b)\n",
    "    \n",
    "    if i == 0:\n",
    "        solver.Add(vSOC[i] == input[\"batt\"][\"initial_soc\"] - dt / input[\"batt\"][\"capacity\"] * (vCharge[i] * (1-input[\"batt\"][\"charge_eff\"]) + vDischarge[i] / (1-input[\"batt\"][\"discharge_eff\"]))) # Eqn. 6\n",
    "    else:\n",
    "        solver.Add(vSOC[i] == vSOC[i-1] - dt / input[\"batt\"][\"capacity\"] * (vCharge[i] * (1-input[\"batt\"][\"charge_eff\"]) + vDischarge[i] / (1-input[\"batt\"][\"discharge_eff\"]))) # Eqn. 6\n",
    "        \n",
    "    solver.Add(vSOC[i] >= input[\"batt\"][\"min_soc\"]) # Eqn. 7\n",
    "    solver.Add(vSOC[i] <= input[\"batt\"][\"max_soc\"]) # Eqn. 7"
   ]
  },
  {
   "cell_type": "code",
   "execution_count": null,
   "metadata": {},
   "outputs": [],
   "source": [
    "# Add objective\n",
    "obj = 0\n",
    "obj += sum([vGrid[i] * input[\"market\"][\"market_price_1\"][time[i]] * dt for i in range(tIndex)])\n",
    "solver.Minimize(obj)"
   ]
  },
  {
   "cell_type": "code",
   "execution_count": null,
   "metadata": {},
   "outputs": [],
   "source": [
    "status = solver.Solve()\n",
    "\n",
    "time_e = timeit.default_timer()\n",
    "runTime = round(time_e - time_s, 4)"
   ]
  },
  {
   "cell_type": "code",
   "execution_count": null,
   "metadata": {},
   "outputs": [],
   "source": [
    "if status == solver.OPTIMAL or status == solver.FEASIBLE:\n",
    "    print(\"Solution is found.\")\n",
    "    print(\"Number of variables =\", solver.NumVariables())\n",
    "    print(\"Number of constraints =\", solver.NumConstraints())\n",
    "    print(\"Computation time = \", runTime)\n",
    "    \n",
    "    # Extract solution values\n",
    "    excelWriter = pd.ExcelWriter('output/Result.xlsx', engine='xlsxwriter')\n",
    "    \n",
    "    objValue = round(solver.Objective().Value() / 100, 2)\n",
    "    \n",
    "    objValueDF = pd.DataFrame.from_dict({\"obj_value\": objValue}, orient=\"index\", columns=[\"Total Cost of Importing Power ($)\"])\n",
    "    \n",
    "    result = list(zip([round(vGrid[i].solution_value(), 4) for i in range(tIndex)], \n",
    "                      [round(vBattPower[i].solution_value(), 4) for i in range(tIndex)],\n",
    "                      [round(vCharge[i].solution_value(), 4) for i in range(tIndex)],\n",
    "                      [round(vDischarge[i].solution_value(), 4) for i in range(tIndex)],\n",
    "                      [round(vSOC[i].solution_value(), 4) for i in range(tIndex)],\n",
    "                      [int(vChargeStatus[i].solution_value()) for i in range(tIndex)]\n",
    "                      ))\n",
    "    resultDF = pd.DataFrame(result, index=time, columns=[\"Grid Power Flow (kW)\", \"Battery Output (kW)\", \"Charging Power (kW)\", \"Discharging Power (kW)\", \"State-of-charge (SOC)\", \"Charge Status\"])\n",
    "    \n",
    "    objValueDF.to_excel(excelWriter, sheet_name='Cost')\n",
    "    resultDF.to_excel(excelWriter, sheet_name='Operation')\n",
    "    excelWriter.close()\n",
    "else:\n",
    "    print(\"Solution cannot be found.\")"
   ]
  }
 ],
 "metadata": {
  "kernelspec": {
   "display_name": "Python 3",
   "language": "python",
   "name": "python3"
  },
  "language_info": {
   "codemirror_mode": {
    "name": "ipython",
    "version": 3
   },
   "file_extension": ".py",
   "mimetype": "text/x-python",
   "name": "python",
   "nbconvert_exporter": "python",
   "pygments_lexer": "ipython3",
   "version": "3.7.1"
  }
 },
 "nbformat": 4,
 "nbformat_minor": 2
}
