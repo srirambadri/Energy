{
 "cells": [
  {
   "cell_type": "code",
   "execution_count": 205,
   "id": "4ecfab68",
   "metadata": {},
   "outputs": [],
   "source": [
    "### ModulIDs ###\n",
    "\"\"\" '1223' - Stromerzeugung: Braunkohle\n",
    "'1224' - Stromerzeugung: Kernenergie\n",
    "'1225' - Stromerzeugung: Wind Offshore\n",
    "'1226' - Stromerzeugung: Wasserkraft\n",
    "'1227' - Stromerzeugung: Sonstige Konventionelle\n",
    "'1228' - Stromerzeugung: Sonstige Erneuerbare\n",
    "'4066' - Stromerzeugung: Biomasse\n",
    "'4067' - Stromerzeugung: Wind Onshore\n",
    "'4068' - Stromerzeugung: Photovoltaik\n",
    "'4069' - Stromerzeugung: Steinkohle\n",
    "'4070' - Stromerzeugung: Pumpspeicher\n",
    "'4071' - Stromerzeugung: Erdgas\n",
    "'410' - Stromverbrauch: Gesamt (Netzlast)\n",
    "'4359' - Stromverbrauch: Residuallast\n",
    "'4387' - Stromverbrauch: Pumpspeicher \"\"\"\n",
    "\n",
    "# power generation \n",
    "REALIZED_POWER_GENERATION    = [1001224,1004066,1004067,1004068,1001223,1004069,1004071,1004070,1001226,1001228,1001227,1001225]\n",
    "INSTALLED_POWER_GENERATION   = [3004072,3004073,3004074,3004075,3004076,3000186,3000188,3000189,3000194,3000198,3000207,3003792]\n",
    "FORECASTED_POWER_GENERATION  = [2000122, 2000715, 2000125, 2003791, 2000123]\n",
    "\n",
    "# power consumption\n",
    "FORECASTED_POWER_CONSUMPTION = [6000411, 6004362]\n",
    "REALIZED_POWER_CONSUMPTION   = [5000410, 5004359]\n",
    "\n",
    "# market   [€/MWh]              DE/LUX   DNK1    DNK 2    FR      NL      AT \t  PL     SW4 \t  SCH     CZ   DE/AT/LU IT(Nord) Slowenien Ungarn    \n",
    "WHOLESALE_PRICES             = [8004169,8004170,8000252,8000253,8000251,8000254,8000255,8000256,8000257,8000258,8000259,8000260,8000261,8000262]\n",
    "COMMERCIAL_FOREIGN_TRADE     = [8004169,8004170,8000252,8000253,8000251,8000254,8000255,8000256,8000257,8000258,8000259,8000260,8000261,8000262]\n",
    "PHYSICAL_POWER_FLOW          = [31000714,31000140,31000569,31000145,31000574,31000570,31000139,31000568,31000138,31000567,31000146,31000575,31000144,31000573,31000142,31000571,31000143,31000572,31000141]"
   ]
  },
  {
   "cell_type": "code",
   "execution_count": 206,
   "id": "d5b48a9f",
   "metadata": {},
   "outputs": [],
   "source": [
    "from deutschland import smard\n",
    "import time\n",
    "import requests\n",
    "from deutschland import smard\n",
    "from deutschland.smard.api import default_api\n",
    "from deutschland.smard.model.indices import Indices\n",
    "from deutschland.smard.model.time_series import TimeSeries\n",
    "from datetime import datetime\n",
    "import pandas as pd\n",
    "from io import BytesIO\n",
    "url = 'https://www.smard.de/nip-download-manager/nip/download/market-data'"
   ]
  },
  {
   "cell_type": "code",
   "execution_count": 207,
   "id": "cee6867e",
   "metadata": {},
   "outputs": [],
   "source": [
    "start = datetime(2025, 5, 29, 00, 00, 00)\n",
    "end =  datetime(2025, 5, 30, 0, 0, 0)\n",
    "#print(int(start.timestamp())* 1000)\n",
    "#print(datetime.fromtimestamp(start.timestamp()))"
   ]
  },
  {
   "cell_type": "code",
   "execution_count": 208,
   "id": "bb2cee4f",
   "metadata": {},
   "outputs": [],
   "source": [
    "payload = {\"request_form\":[{\"format\":\"CSV\",\"moduleIds\":[1004067,1004068,1001225],\"region\":\"DE\",\"timestamp_from\":int(start.timestamp())*1000,\"timestamp_to\":int(end.timestamp())*1000,\"type\":\"discrete\",\"language\":\"de\"}]}\n",
    "energy = requests.post(url, json = payload)\n",
    "df_energy = pd.read_csv(BytesIO(energy.content), sep=';')\n",
    "\n",
    "df_energy.columns=['Time_from','Time_to','Windoffshore','Windonshore','Solar']\n",
    "\n",
    "df_energy['Windoffshore'] = df_energy['Windoffshore'].str.replace('.', '')\n",
    "df_energy['Windoffshore'] = df_energy['Windoffshore'].str.replace(',', '.')\n",
    "df_energy['Windoffshore'] = df_energy['Windoffshore'].str.replace('-', '0')\n",
    "df_energy['Windoffshore'] = df_energy['Windoffshore'].astype(float)\n",
    "\n",
    "df_energy['Windonshore'] = df_energy['Windonshore'].str.replace('.', '')\n",
    "df_energy['Windonshore'] = df_energy['Windonshore'].str.replace(',', '.')\n",
    "df_energy['Windonshore'] = df_energy['Windonshore'].str.replace('-', '0')\n",
    "df_energy['Windonshore'] = df_energy['Windonshore'].astype(float)\n",
    "\n",
    "df_energy['Solar'] = df_energy['Solar'].str.replace('.', '')\n",
    "df_energy['Solar'] = df_energy['Solar'].str.replace(',', '.')\n",
    "df_energy['Solar'] = df_energy['Solar'].str.replace('-', '0')\n",
    "df_energy['Solar'] = df_energy['Solar'].astype(float)\n",
    "#df_energy\n",
    "\n",
    "\n"
   ]
  },
  {
   "cell_type": "code",
   "execution_count": 209,
   "id": "10fe7c43",
   "metadata": {},
   "outputs": [],
   "source": [
    "payload = {\"request_form\":[{\"format\":\"CSV\",\"moduleIds\":[8004169],\"region\":\"DE\",\"timestamp_from\":int(start.timestamp())*1000,\"timestamp_to\":int(end.timestamp())*1000,\"type\":\"discrete\",\"language\":\"de\"}]}\n",
    "price = requests.post(url, json = payload)\n",
    "df_price = pd.read_csv(BytesIO(price.content), sep=';')\n",
    "df_price.columns=['Time_from','Time_to','Market_price']\n",
    "\n",
    "df_price['Market_price'] = df_price['Market_price'].str.replace('.', '')\n",
    "df_price['Market_price'] = df_price['Market_price'].str.replace(',', '.')\n",
    "df_price['Market_price'] = df_price['Market_price'].str.replace('-', '0')\n",
    "df_price['Market_price'] = df_price['Market_price'].astype(float)\n",
    "\n",
    "#df_price"
   ]
  },
  {
   "cell_type": "code",
   "execution_count": 210,
   "id": "708cca1d",
   "metadata": {},
   "outputs": [],
   "source": [
    "payload = {\"request_form\":[{\"format\":\"CSV\",\"moduleIds\":[5000410],\"region\":\"DE\",\"timestamp_from\":int(start.timestamp())*1000,\"timestamp_to\":int(end.timestamp())*1000,\"type\":\"discrete\",\"language\":\"de\"}]}\n",
    "load = requests.post(url, json = payload)\n",
    "df_load = pd.read_csv(BytesIO(load.content), sep=';')\n",
    "df_load.columns=['Time_from','Time_to','Load']\n",
    "#df_load \n",
    "df_load['Load'] = df_load['Load'].str.replace('.', '')\n",
    "df_load['Load'] = df_load['Load'].str.replace(',', '.')\n",
    "df_load['Load'] = df_load['Load'].str.replace('-', '0')\n",
    "df_load['Load'] = df_load['Load'].astype(float)\n",
    "\n",
    "#df_load"
   ]
  },
  {
   "cell_type": "code",
   "execution_count": 211,
   "id": "d8b4a02c",
   "metadata": {},
   "outputs": [],
   "source": [
    "df_inter = pd.merge(df_energy, df_load, on=['Time_from','Time_to'])\n",
    "df = pd.merge(df_inter, df_price, on=['Time_from'], how = 'outer')\n",
    "df = df.drop(columns=['Time_to_x', 'Time_to_y'])\n",
    "#df.columns=['Time','Windoffshore','Windonshore','Solar','Load','Market_price']\n",
    "\n",
    "df['Wind'] = df['Windoffshore'] + df['Windonshore']\n",
    "\n",
    "df = df.drop(columns=['Windoffshore', 'Windonshore'])\n",
    "df['Market_price']= df['Market_price'].ffill()\n",
    "df.set_index('Time_from')\n",
    "\n",
    "df.to_csv('SMARD_data.csv', sep='\\t',index=False)"
   ]
  }
 ],
 "metadata": {
  "kernelspec": {
   "display_name": "Python 3",
   "language": "python",
   "name": "python3"
  },
  "language_info": {
   "codemirror_mode": {
    "name": "ipython",
    "version": 3
   },
   "file_extension": ".py",
   "mimetype": "text/x-python",
   "name": "python",
   "nbconvert_exporter": "python",
   "pygments_lexer": "ipython3",
   "version": "3.13.3"
  }
 },
 "nbformat": 4,
 "nbformat_minor": 5
}
